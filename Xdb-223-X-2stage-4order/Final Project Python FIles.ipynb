{
 "cells": [
  {
   "cell_type": "markdown",
   "metadata": {},
   "source": [
    "csv2grcf.py\n",
    "=======\n",
    "This is python script to convert csv to grc readable format.\n",
    "The csv is obtained using Analog Discovery 2"
   ]
  },
  {
   "cell_type": "code",
   "execution_count": 1,
   "metadata": {
    "ExecuteTime": {
     "end_time": "2021-04-09T02:50:16.155258Z",
     "start_time": "2021-04-09T02:50:15.888972Z"
    }
   },
   "outputs": [],
   "source": [
    "# This is python script to convert csv to grc readable format.\n",
    "# The csv is obtained using Analog Discovery 2\n",
    "\n",
    "import numpy as np\n",
    "import csv\n",
    "with open('yes_interference.csv') as f:\n",
    "    reader = csv.reader(f, delimiter=',')\n",
    "    rate = []\n",
    "    tstart = []\n",
    "    dat = np.array([])\n",
    "    dat1 = np.array([])\n",
    "    data = np.array([])\n",
    "    data1 = np.array([])\n",
    "    data2 = np.array([])\n",
    "    i=0\n",
    "    newFile=open(\"test.dat\", \"wb+\")\n",
    "    newFile1=open(\"time.dat\", \"wb+\")\n",
    "    for row in reader:\n",
    "        dat = np.array(row[:])\n",
    "        if (i==1) :\n",
    "            tstart=float(row[0])\n",
    "            dat1 = dat.astype(np.float)\n",
    "            data=np.concatenate((data, dat1))\n",
    "        elif (i>1) :\n",
    "            dat1 = dat.astype(np.float)\n",
    "            data=np.concatenate((data, dat1))\n",
    "            if ((i%10000)==0) :\n",
    "                data1 = data[1:len(data):2]\n",
    "                data1.astype(np.float32).tofile(newFile)\n",
    "                data2 = data[0:len(data):2]-tstart\n",
    "                data2.astype(np.float32).tofile(newFile1)\n",
    "                dat1 = np.array([])\n",
    "                data = np.array([])\n",
    "                data1 = np.array([])\n",
    "                data2 = np.array([])\n",
    "        i=i+1\n",
    "    data1=data[1:len(data):2]\n",
    "    data1.astype(np.float32).tofile(newFile)\n",
    "    data2=data[0:len(data):2]-tstart\n",
    "    data2.astype(np.float32).tofile(newFile1)\n",
    "newFile.close()\n",
    "newFile1.close()"
   ]
  },
  {
   "cell_type": "markdown",
   "metadata": {},
   "source": [
    "# bin2spice.py\n",
    "=======\n",
    "After LTSPICE simulation, the data is stored using .wave spice directive to ensure constant sampling time\n",
    "To convert wave file into grc file, the following python script is used."
   ]
  },
  {
   "cell_type": "code",
   "execution_count": 2,
   "metadata": {},
   "outputs": [],
   "source": [
    "# Use csv2grcf.py to extract csv data to python binary data stored in \"test.dat\" and \"time.dat\"\n",
    "# Then use this script to read from \"test.dat\" and \"time.dat\", and create the PWL file readable by LTSPICE for simulation\n",
    "\n",
    "import numpy as np\n",
    "\n",
    "t=np.fromfile(\"time.dat\",np.float32)\n",
    "data=np.fromfile(\"test.dat\",np.float32)\n",
    "\n",
    "data1=np.vstack((t,data)).T\n",
    "\n",
    "np.savetxt('sig1.dat', data1, fmt='%.16e', delimiter=',', newline='\\n', header='', footer='', comments='#')"
   ]
  },
  {
   "cell_type": "markdown",
   "metadata": {},
   "source": [
    "wave2grcf\n",
    "=======\n",
    "After LTSPICE simulation, the data is stored using .wave spice directive to ensure constant sampling time\n",
    "To convert wave file into grc file, the following python script is used."
   ]
  },
  {
   "cell_type": "code",
   "execution_count": 9,
   "metadata": {},
   "outputs": [],
   "source": [
    "# After LTSPICE simulation, the data is stored using .wave spice directive to ensure constant sampling time\n",
    "# To convert wave file into grc file, the following python script is used.\n",
    "\n",
    "import numpy as np\n",
    "from scipy.io import wavfile\n",
    "\n",
    "(fs, data) = 0, 0\n",
    "\n",
    "(fs, data)=wavfile.read(\"out.wav\")\n",
    "\n",
    "data1=data/max(data)*0.25\n",
    "\n",
    "newFile=open(\"testspice.dat\",\"wb\")\n",
    "data1.astype(np.float32).tofile(newFile)\n",
    "newFile.close()"
   ]
  },
  {
   "cell_type": "code",
   "execution_count": 3,
   "metadata": {},
   "outputs": [
    {
     "data": {
      "image/png": "[encoded data removed]",
      "text/plain": [
       "<Figure size 432x288 with 1 Axes>"
      ]
     },
     "metadata": {
      "needs_background": "light"
     },
     "output_type": "display_data"
    }
   ],
   "source": [
    "import matplotlib.pyplot as plt\n",
    "import numpy as np\n",
    "\n",
    "def scatterplot(x_data, y_data, x_label=\"\", y_label=\"\", title=\"\", color = \"r\", yscale_log=False):\n",
    "\n",
    "    # Create the plot object\n",
    "    _, ax = plt.subplots()\n",
    "\n",
    "    # Plot the data, set the size (s), color and transparency (alpha)\n",
    "    # of the points\n",
    "    ax.scatter(x_data, y_data, s = 10, color = color, alpha = 0.75)\n",
    "\n",
    "    if yscale_log == True:\n",
    "        ax.set_yscale('log')\n",
    "\n",
    "    # Label the axes and provide a title\n",
    "    ax.set_title(title)\n",
    "    ax.set_xlabel(x_label)\n",
    "    ax.set_ylabel(y_label)\n",
    "\n",
    "x = ['apples', 'oranges', 'bananas']\n",
    "y = [4, 8, 5]\n",
    "scatterplot(x, y)"
   ]
  },
  {
   "cell_type": "code",
   "execution_count": null,
   "metadata": {},
   "outputs": [],
   "source": []
  }
 ],
 "metadata": {
  "kernelspec": {
   "display_name": "Python 3",
   "language": "python",
   "name": "python3"
  },
  "language_info": {
   "codemirror_mode": {
    "name": "ipython",
    "version": 3
   },
   "file_extension": ".py",
   "mimetype": "text/x-python",
   "name": "python",
   "nbconvert_exporter": "python",
   "pygments_lexer": "ipython3",
   "version": "3.8.5"
  },
  "toc": {
   "base_numbering": 1,
   "nav_menu": {},
   "number_sections": true,
   "sideBar": true,
   "skip_h1_title": false,
   "title_cell": "Table of Contents",
   "title_sidebar": "Contents",
   "toc_cell": false,
   "toc_position": {},
   "toc_section_display": true,
   "toc_window_display": false
  },
  "varInspector": {
   "cols": {
    "lenName": 16,
    "lenType": 16,
    "lenVar": 40
   },
   "kernels_config": {
    "python": {
     "delete_cmd_postfix": "",
     "delete_cmd_prefix": "del ",
     "library": "var_list.py",
     "varRefreshCmd": "print(var_dic_list())"
    },
    "r": {
     "delete_cmd_postfix": ") ",
     "delete_cmd_prefix": "rm(",
     "library": "var_list.r",
     "varRefreshCmd": "cat(var_dic_list()) "
    }
   },
   "types_to_exclude": [
    "module",
    "function",
    "builtin_function_or_method",
    "instance",
    "_Feature"
   ],
   "window_display": false
  }
 },
 "nbformat": 4,
 "nbformat_minor": 4
}
